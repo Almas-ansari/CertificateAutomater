{
 "cells": [
  {
   "cell_type": "code",
   "execution_count": null,
   "metadata": {},
   "outputs": [],
   "source": [
    "import pandas as pd\n",
    "x=input(\"Enter File Name containing data: \")\n",
    "t=input(\"Enter sheet name:\")\n",
    "f=input(\"Enter Template pdf Name: \")\n",
    "xc=int(input(\"Enter x cordinate: \"))\n",
    "yc=int(input(\"Enter y cordinate: \"))\n",
    "size=int(input(\"Enter text size: \"))\n",
    "try:\n",
    "    w=pd.read_excel(x,t)\n",
    "except:\n",
    "    w=pd.rea\n",
    "q=w[\"Full Name\"].dropna()\n",
    "for x in q:\n",
    "    x.upper()\n",
    "    from PyPDF2 import PdfFileWriter, PdfFileReader\n",
    "    import io\n",
    "    import reportlab\n",
    "    from reportlab.pdfgen import canvas\n",
    "    from reportlab.lib.pagesizes import letter\n",
    "    existing_pdf = PdfFileReader(open(f, \"rb\"))\n",
    "    m=existing_pdf.getPageLayout()\n",
    "    packet = io.BytesIO()\n",
    "    can = canvas.Canvas(packet, pagesize=m)\n",
    "    can.setFont(\"Times-Roman\", size)\n",
    "    can.drawCentredString(xc,yc, x)\n",
    "    can.showPage()\n",
    "    can.save()\n",
    "    packet.seek(0)\n",
    "    new_pdf = PdfFileReader(packet)\n",
    "    output = PdfFileWriter()\n",
    "    page = existing_pdf.getPage(0)\n",
    "    page.mergePage(new_pdf.getPage(0))\n",
    "    w=x+\".pdf\"\n",
    "    output.addPage(page)\n",
    "    outputStream = open(w, \"wb\")\n",
    "    output.write(outputStream)\n",
    "    outputStream.close()\n",
    "    print(\"Running\")\n",
    "print(\"done\")"
   ]
  }
 ],
 "metadata": {
  "kernelspec": {
   "display_name": "Python 3",
   "language": "python",
   "name": "python3"
  },
  "language_info": {
   "codemirror_mode": {
    "name": "ipython",
    "version": 3
   },
   "file_extension": ".py",
   "mimetype": "text/x-python",
   "name": "python",
   "nbconvert_exporter": "python",
   "pygments_lexer": "ipython3",
   "version": "3.7.6"
  }
 },
 "nbformat": 4,
 "nbformat_minor": 4
}
