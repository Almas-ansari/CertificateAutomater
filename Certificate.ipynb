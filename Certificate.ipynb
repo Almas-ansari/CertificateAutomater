{
 "cells": [
  {
   "cell_type": "code",
   "execution_count": 6,
   "metadata": {
    "scrolled": true
   },
   "outputs": [
    {
     "ename": "ModuleNotFoundError",
     "evalue": "No module named 'reportlab'",
     "output_type": "error",
     "traceback": [
      "\u001b[1;31m---------------------------------------------------------------------------\u001b[0m",
      "\u001b[1;31mModuleNotFoundError\u001b[0m                       Traceback (most recent call last)",
      "\u001b[1;32m<ipython-input-6-e185d2aaf4fb>\u001b[0m in \u001b[0;36m<module>\u001b[1;34m\u001b[0m\n\u001b[0;32m      2\u001b[0m \u001b[1;32mfrom\u001b[0m \u001b[0mPyPDF2\u001b[0m \u001b[1;32mimport\u001b[0m \u001b[0mPdfFileWriter\u001b[0m\u001b[1;33m,\u001b[0m \u001b[0mPdfFileReader\u001b[0m\u001b[1;33m\u001b[0m\u001b[1;33m\u001b[0m\u001b[0m\n\u001b[0;32m      3\u001b[0m \u001b[1;32mimport\u001b[0m \u001b[0mio\u001b[0m\u001b[1;33m\u001b[0m\u001b[1;33m\u001b[0m\u001b[0m\n\u001b[1;32m----> 4\u001b[1;33m \u001b[1;32mimport\u001b[0m \u001b[0mreportlab\u001b[0m\u001b[1;33m\u001b[0m\u001b[1;33m\u001b[0m\u001b[0m\n\u001b[0m\u001b[0;32m      5\u001b[0m \u001b[1;32mfrom\u001b[0m \u001b[0mreportlab\u001b[0m\u001b[1;33m.\u001b[0m\u001b[0mpdfgen\u001b[0m \u001b[1;32mimport\u001b[0m \u001b[0mcanvas\u001b[0m\u001b[1;33m\u001b[0m\u001b[1;33m\u001b[0m\u001b[0m\n\u001b[0;32m      6\u001b[0m \u001b[1;32mfrom\u001b[0m \u001b[0mreportlab\u001b[0m\u001b[1;33m.\u001b[0m\u001b[0mlib\u001b[0m\u001b[1;33m.\u001b[0m\u001b[0mpagesizes\u001b[0m \u001b[1;32mimport\u001b[0m \u001b[0mletter\u001b[0m\u001b[1;33m\u001b[0m\u001b[1;33m\u001b[0m\u001b[0m\n",
      "\u001b[1;31mModuleNotFoundError\u001b[0m: No module named 'reportlab'"
     ]
    }
   ],
   "source": [
    "import pandas as pd\n",
    "from PyPDF2 import PdfFileWriter, PdfFileReader\n",
    "import io\n",
    "import reportlab\n",
    "from reportlab.pdfgen import canvas\n",
    "from reportlab.lib.pagesizes import letter"
   ]
  },
  {
   "cell_type": "code",
   "execution_count": 3,
   "metadata": {},
   "outputs": [
    {
     "name": "stdout",
     "output_type": "stream",
     "text": [
      "Enter File Name containing data: dfs\n",
      "Enter sheet name:12\n",
      "Enter Template pdf Name: 12\n",
      "Enter x cordinate: 12\n",
      "Enter y cordinate: 12\n",
      "Enter text size: 12\n"
     ]
    }
   ],
   "source": [
    "x=input(\"Enter File Name containing data: \")\n",
    "t=input(\"Enter sheet name:\")\n",
    "f=input(\"Enter Template pdf Name: \")\n",
    "xc=int(input(\"Enter x cordinate: \"))\n",
    "yc=int(input(\"Enter y cordinate: \"))\n",
    "size=int(input(\"Enter text size: \"))\n"
   ]
  },
  {
   "cell_type": "code",
   "execution_count": null,
   "metadata": {},
   "outputs": [],
   "source": [
    "try:\n",
    "    w=pd.read_excel(x,t)\n",
    "except:\n",
    "    w=pd.rea\n",
    "q=w[\"Full Name\"].dropna()\n",
    "for x in q:\n",
    "    x.upper()\n",
    "    existing_pdf = PdfFileReader(open(f, \"rb\"))\n",
    "    m=existing_pdf.getPageLayout()\n",
    "    packet = io.BytesIO()\n",
    "    can = canvas.Canvas(packet, pagesize=m)\n",
    "    can.setFont(\"Times-Roman\", size)\n",
    "    can.drawCentredString(xc,yc, x)\n",
    "    can.showPage()\n",
    "    can.save()\n",
    "    packet.seek(0)\n",
    "    new_pdf = PdfFileReader(packet)\n",
    "    output = PdfFileWriter()\n",
    "    page = existing_pdf.getPage(0)\n",
    "    page.mergePage(new_pdf.getPage(0))\n",
    "    w=x+\".pdf\"\n",
    "    output.addPage(page)\n",
    "    outputStream = open(w, \"wb\")\n",
    "    output.write(outputStream)\n",
    "    outputStream.close()\n",
    "    print(\"Running\")\n",
    "print(\"done\")"
   ]
  }
 ],
 "metadata": {
  "kernelspec": {
   "display_name": "Python 3",
   "language": "python",
   "name": "python3"
  },
  "language_info": {
   "codemirror_mode": {
    "name": "ipython",
    "version": 3
   },
   "file_extension": ".py",
   "mimetype": "text/x-python",
   "name": "python",
   "nbconvert_exporter": "python",
   "pygments_lexer": "ipython3",
   "version": "3.9.5"
  }
 },
 "nbformat": 4,
 "nbformat_minor": 4
}
